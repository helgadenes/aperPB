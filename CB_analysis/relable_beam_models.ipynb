{
 "cells": [
  {
   "cell_type": "markdown",
   "metadata": {},
   "source": [
    "# Relabel beam model files\n",
    "\n",
    "The frequency lable was wrong in the \"old\" drift scan beam map files. This is when chan 7 was supposedly the centre. \n",
    "\n",
    "The new labels are the correct ones, where chan 5 is actually the centre frequency. \n",
    "\n",
    "old values:\n",
    "CRVAL3 = 1234867750.0\n",
    "CDELT3 = 18310500.0\n",
    "\n",
    "new values:\n",
    "CRVAL3_new = 1300898384.0\n",
    "CDELT3_new = 12817350.0"
   ]
  },
  {
   "cell_type": "code",
   "execution_count": 30,
   "metadata": {},
   "outputs": [],
   "source": [
    "import os\n",
    "from astropy.io import fits\n",
    "import pandas as pd\n",
    "import numpy as np\n",
    "import matplotlib as mpl\n",
    "from matplotlib import gridspec\n",
    "import matplotlib.pyplot as plt\n",
    "from reproject import reproject_interp\n",
    "from astropy.modeling import models, fitting\n",
    "import csv\n",
    "from astropy.io import ascii"
   ]
  },
  {
   "cell_type": "code",
   "execution_count": 48,
   "metadata": {},
   "outputs": [],
   "source": [
    "def relable_beams(date, source, pol):\n",
    "    \n",
    "    #pol='I'\n",
    "    CRVAL3_new = 1280e6+(12.207e3*(-(24576/2-14000)))  #rewrite to this\n",
    "    CDELT3_new = 12.207e3*1050\n",
    "    \n",
    "    for beam in range(0,40):\n",
    "        hdulist = fits.open('/tank/apertif/driftscans/fits_files/{}/{}_{}_{:02}_{}.fits'.format(date, source, date, beam, pol))\n",
    "        h = hdulist[0].header\n",
    "        #print(h['CRVAL3'])\n",
    "        #print(h['CDELT3'])\n",
    "        hdulist[0].header['CRVAL3'] = CRVAL3_new\n",
    "        hdulist[0].header['CDELT3'] = CDELT3_new\n",
    "        \n",
    "        hdulist.writeto('/tank/apertif/driftscans/fits_files/{}/{}_{}_{:02}_{}.fits'.format(date, source, date, beam, pol), overwrite=True)\n",
    "        \n",
    "#relable_beams('190628')"
   ]
  },
  {
   "cell_type": "code",
   "execution_count": 49,
   "metadata": {},
   "outputs": [
    {
     "name": "stdout",
     "output_type": "stream",
     "text": [
      "190628\n",
      "190722\n",
      "190821\n",
      "190826\n",
      "190912\n",
      "190916\n",
      "190918\n",
      "191008\n",
      "191023\n",
      "191026\n",
      "191120\n",
      "200130\n",
      "200430\n",
      "200710\n",
      "200819\n",
      "201009\n",
      "201218\n",
      "210205\n"
     ]
    }
   ],
   "source": [
    "# relable Cyg A files\n",
    "\n",
    "dates = ['190628', '190722', '190821', '190826', '190912', '190916', '190918', '191008', '191023', '191026', '191120', '200130', '200430', '200710', '200819', '201009', '201218', '210205']\n",
    "\n",
    "for date in dates:\n",
    "    #relable_beams(date, 'CygA', 'I')\n",
    "    relable_beams(date, 'CygA', 'xx')\n",
    "    relable_beams(date, 'CygA', 'yy')\n",
    "    print(date)\n",
    "    \n",
    "    "
   ]
  },
  {
   "cell_type": "code",
   "execution_count": 51,
   "metadata": {},
   "outputs": [
    {
     "name": "stdout",
     "output_type": "stream",
     "text": [
      "201028\n"
     ]
    }
   ],
   "source": [
    "# relable Cas A files\n",
    "\n",
    "dates = ['201028']\n",
    "\n",
    "for date in dates:\n",
    "    #relable_beams(date, 'CasA', 'I')\n",
    "    relable_beams(date, 'CasA', 'xx')\n",
    "    relable_beams(date, 'CasA', 'yy')\n",
    "    print(date)"
   ]
  },
  {
   "cell_type": "code",
   "execution_count": 46,
   "metadata": {},
   "outputs": [],
   "source": [
    "# rename some files\n",
    "\n",
    "def rename_files(date, source, pol):\n",
    "    \n",
    "    #pol='I'\n",
    "    CRVAL3_new = 1280e6+(12.207e3*(-(24576/2-14000)))  #rewrite to this\n",
    "    CDELT3_new = 12.207e3*1050\n",
    "    \n",
    "    for beam in range(0,40):\n",
    "        hdulist = fits.open('/tank/apertif/driftscans/fits_files/{}/{}_{}_{:02}{}.fits'.format(date, source, date, beam, pol))\n",
    "        \n",
    "        hdulist.writeto('/tank/apertif/driftscans/fits_files/{}/{}_{}_{:02}_{}.fits'.format(date, source, date, beam, pol), overwrite=True)\n",
    "\n",
    "#rename_files('191023', 'CygA', 'xx')\n",
    "rename_files('191023', 'CygA', 'yy')"
   ]
  },
  {
   "cell_type": "code",
   "execution_count": null,
   "metadata": {},
   "outputs": [],
   "source": []
  },
  {
   "cell_type": "code",
   "execution_count": 40,
   "metadata": {},
   "outputs": [
    {
     "name": "stdout",
     "output_type": "stream",
     "text": [
      "Beam_shape_plots.ipynb\t\t    prepare_drift_data.py\r\n",
      "beam_spline_fitting.py\t\t    process_lt_data.py\r\n",
      "csv_to_pickle.py\t\t    process_lt_data_v2.py\r\n",
      "drift_scan_auto_corr_frequency.py   __pycache__\r\n",
      "drift_scan_auto_corr_frequency.pyc  quadrupole_plots.py\r\n",
      "__init__.py\t\t\t    scan2fits_all.py\r\n",
      "make_beam_model_ant.py\t\t    scan2fits_ant.py\r\n",
      "make_beam_model.py\t\t    scan2fits_pol.py\r\n",
      "manual_prepare.py\t\t    scan2fits_spec_new.py\r\n",
      "models_190821.png\t\t    scan2fits_spec_old.py\r\n",
      "modules\t\t\t\t    scan2fits_spec.py\r\n",
      "Plot_beam_model.ipynb\t\t    scan_list_190918.txt\r\n",
      "plot_beams.py\t\t\t    task_id_lists\r\n",
      "plots.py\t\t\t    task_ids_190918_full_list\r\n",
      "plots.pyc\t\t\t    test_atdbquery.ipynb\r\n"
     ]
    }
   ],
   "source": [
    "!ls drift_analysis"
   ]
  },
  {
   "cell_type": "code",
   "execution_count": null,
   "metadata": {},
   "outputs": [],
   "source": []
  }
 ],
 "metadata": {
  "kernelspec": {
   "display_name": "Python 3",
   "language": "python",
   "name": "python3"
  },
  "language_info": {
   "codemirror_mode": {
    "name": "ipython",
    "version": 3
   },
   "file_extension": ".py",
   "mimetype": "text/x-python",
   "name": "python",
   "nbconvert_exporter": "python",
   "pygments_lexer": "ipython3",
   "version": "3.7.1"
  }
 },
 "nbformat": 4,
 "nbformat_minor": 2
}
